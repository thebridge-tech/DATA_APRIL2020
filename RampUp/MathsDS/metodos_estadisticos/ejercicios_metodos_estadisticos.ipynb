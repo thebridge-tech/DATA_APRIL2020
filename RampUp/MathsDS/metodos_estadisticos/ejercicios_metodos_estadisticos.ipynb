{
 "cells": [
  {
   "cell_type": "markdown",
   "metadata": {
    "colab_type": "text",
    "id": "5cXkMdm-LNyz"
   },
   "source": [
    "# Clumsy Carl\n",
    "\n",
    "\n",
    "Here's the problem restated:\n",
    "\n",
    "Imagine a restaurant employs five dishwashers:\n",
    "- Alice\n",
    "- Bob\n",
    "- Carl\n",
    "- Dave\n",
    "- Eric\n",
    "\n",
    "One week, they break five dishes -- and Carl breaks **four** of the five. So, his coworkers have a hypothesis: Carl is clumsy!\n",
    "\n",
    "Carl says no, it was just bad luck and random chance: it could have happened to anybody. We can call this the null hypothesis.\n",
    "\n",
    "Can we do some math to help answer this argument? What's the probability it was just bad luck?\n",
    "\n",
    "We can write a simulation to estimate the probability that Carl breaks at least four of the five dishes, assuming that breaking a dish is a truly random event. (We'll assume that the dishwashers have identical workloads and skills.)\n"
   ]
  },
  {
   "cell_type": "code",
   "execution_count": null,
   "metadata": {
    "colab": {},
    "colab_type": "code",
    "id": "5IdSBJnmLNy0"
   },
   "outputs": [],
   "source": [
    "dishwashers = ['Alice', 'Bob', 'Carl', 'Dave', 'Eric']"
   ]
  },
  {
   "cell_type": "code",
   "execution_count": null,
   "metadata": {
    "colab": {},
    "colab_type": "code",
    "id": "etpy-I1ILNy2"
   },
   "outputs": [],
   "source": []
  },
  {
   "cell_type": "markdown",
   "metadata": {
    "colab_type": "text",
    "id": "lbuNLuPVLNy4"
   },
   "source": [
    "# Two dice\n",
    "\n",
    "Simulate the distribution of adding two dice.\n",
    "\n",
    "What is the mean? Standard deviation?"
   ]
  },
  {
   "cell_type": "code",
   "execution_count": null,
   "metadata": {
    "colab": {},
    "colab_type": "code",
    "id": "Cn1yEJDQLNy5"
   },
   "outputs": [],
   "source": []
  },
  {
   "cell_type": "markdown",
   "metadata": {
    "colab_type": "text",
    "id": "8Q0iMN5-LNy7"
   },
   "source": [
    "What is the standard score (z score) of rolling a 10?"
   ]
  },
  {
   "cell_type": "code",
   "execution_count": null,
   "metadata": {
    "colab": {},
    "colab_type": "code",
    "id": "9kOLJtxjLNy7"
   },
   "outputs": [],
   "source": []
  },
  {
   "cell_type": "markdown",
   "metadata": {
    "colab_type": "text",
    "id": "OXVQVpV0LNy-"
   },
   "source": [
    "What is the probability of rolling a 10 or higher?"
   ]
  },
  {
   "cell_type": "code",
   "execution_count": null,
   "metadata": {
    "colab": {},
    "colab_type": "code",
    "id": "YfWhW40YLNy_"
   },
   "outputs": [],
   "source": []
  }
 ],
 "metadata": {
  "colab": {
   "collapsed_sections": [],
   "name": "LSDS Intro Assignment 4 - Inferential Statistics.ipynb",
   "provenance": []
  },
  "kernelspec": {
   "display_name": "Python 3",
   "language": "python",
   "name": "python3"
  },
  "language_info": {
   "codemirror_mode": {
    "name": "ipython",
    "version": 3
   },
   "file_extension": ".py",
   "mimetype": "text/x-python",
   "name": "python",
   "nbconvert_exporter": "python",
   "pygments_lexer": "ipython3",
   "version": "3.6.9"
  }
 },
 "nbformat": 4,
 "nbformat_minor": 4
}
