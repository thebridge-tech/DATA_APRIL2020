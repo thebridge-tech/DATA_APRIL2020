{
 "cells": [
  {
   "cell_type": "markdown",
   "metadata": {},
   "source": [
    "# Warm Up - Clases y Programación Orientada a Objetos\n",
    "\n",
    "En este tema vamos a inroducir el concepto de programación orientada a objetos. Las clases son structuras de datos más generalizadas, y por tanto más flexibles, que nos permitiran definir la información y el comportamiento de casi cualquier problema o modelo que queramos programar. Las clases con un concepto complejo y muy amplio así que trataremos de ver los conceptos minimos para poder utilizarlas. En este notebook:\n",
    "\n",
    "\n",
    "• Vermos como las clases pueden permitir crear estructuras más adecuadas para estructurar programas más complejas.<br>\n",
    "• Entenderemos como leer y definir clases en Python.<br>\n",
    "• Veremos el concepto de encapsulamientos y como eso ayudará a la modularidad de nuestros programas.<br>\n",
    "• Conseguiremos entender como crear programas con clases sencillas.<br>\n",
    "• Analizaremos los conceptos de encapsulamiento, polimorfismo y herencia.<br>\n",
    "\n",
    "\n"
   ]
  },
  {
   "cell_type": "markdown",
   "metadata": {},
   "source": [
    "¿Que son las clases?\n",
    "===\n",
    "Las clases son una forma de combinar información y comportamiento. Vamos a considerar en estos ejemplos que vamos a realizar un programa que simula un cohete por ejemplo para un juego. Una de las informaciones importantes que querremos conocer/almacenar es la posición del cohete, lo que haremos con sus coordenadas x e y. Aquí vemos como se podría definir la clase:"
   ]
  },
  {
   "cell_type": "code",
   "execution_count": null,
   "metadata": {
    "collapsed": false,
    "jupyter": {
     "outputs_hidden": false
    }
   },
   "outputs": [],
   "source": [
    "class Rocket():\n",
    "    # Rocket simulates a rocket ship for a game,\n",
    "\n",
    "    \n",
    "    def __init__(self):\n",
    "        # Each rocket has an (x,y) position.\n",
    "        self.x = 0\n",
    "        self.y = 0"
   ]
  },
  {
   "cell_type": "markdown",
   "metadata": {},
   "source": [
    "Una de las primeras cosas que tenemos que hacer al crear una clase es definir el metodo  **\\__init\\__()**. El método \\_\\_init\\_\\_() establece los valores para los atributos que se necesitan definir en el objeto cuando es creado por primera vez. Posteriormente hablaremos sobre el *self* ; básicamente es una sintaxis que nos permite acceder a una variable desde cualquier otro sitio de la clase.\n",
    "\n",
    "La clase Rocket almacena dos piezas de información (atributos) hasta el momento, pero no puede hacer nada más. Vamos a definir ahora el primer comportamiento (método) del cohete. Vamos a considerar que un cohete se mueve hacia arriba. Vamos a ver como se codificaría un método:"
   ]
  },
  {
   "cell_type": "code",
   "execution_count": null,
   "metadata": {
    "collapsed": false,
    "jupyter": {
     "outputs_hidden": false
    }
   },
   "outputs": [],
   "source": [
    "class Rocket():\n",
    "    # Rocket simulates a rocket ship for a game,\n",
    "    #  or a physics simulation.\n",
    "    \n",
    "    def __init__(self):\n",
    "        # Each rocket has an (x,y) position.\n",
    "        self.x = 0\n",
    "        self.y = 0\n",
    "        \n",
    "    def move_up(self):\n",
    "        # Increment the y-position of the rocket.\n",
    "        self.y += 1"
   ]
  },
  {
   "cell_type": "markdown",
   "metadata": {},
   "source": [
    "La clase Rocket puede almacenar información, y ya puede \"hacer\" algo. Pero este código todavía no ha creado un cohete. Vamos a ver como realmente crearíamos un cohete. Esto se llama instanciar un objeto de la clase:"
   ]
  },
  {
   "cell_type": "code",
   "execution_count": null,
   "metadata": {
    "collapsed": false,
    "jupyter": {
     "outputs_hidden": false
    }
   },
   "outputs": [],
   "source": [
    "class Rocket():\n",
    "    # Rocket simulates a rocket ship for a game,\n",
    "    \n",
    "    def __init__(self):\n",
    "        # Each rocket has an (x,y) position.\n",
    "        self.x = 0\n",
    "        self.y = 0\n",
    "        \n",
    "    def move_up(self):\n",
    "        # Increment the y-position of the rocket.\n",
    "        self.y += 1\n",
    "\n",
    "# Create a Rocket object.\n",
    "my_rocket = Rocket()\n",
    "print(my_rocket)"
   ]
  },
  {
   "cell_type": "markdown",
   "metadata": {},
   "source": [
    "Como hemos visto para utilizar la clase necesitamos crear una variable como *my\\_rocket*, y asignarle el nombre de la clase. De esta manera Python crea un **objeto** de la clase. Un objeto es una instancia de la clase, en este caso de la clase Rocket; un objeto tiene los atributos de la clase, y puede \"hacer\" los métodos definidos en la clase. En este caso, puedes ver que la variable my\\_rocket es un objeto Rocket que se encuentra en el fichero \\_\\_main\\_\\_ , y que estará almacenado en un lugar de la memoria.\n",
    "\n",
    "Una vez que tienes una clase, puedes definor un objeto y utilizar sus métodos. Aquí vemos como puedes definir un cohete, y hacer que comience a moverse hacia arriba:"
   ]
  },
  {
   "cell_type": "code",
   "execution_count": null,
   "metadata": {
    "collapsed": false,
    "jupyter": {
     "outputs_hidden": false
    }
   },
   "outputs": [],
   "source": [
    "class Rocket():\n",
    "    # Rocket simulates a rocket ship for a game,\n",
    "    \n",
    "    def __init__(self):\n",
    "        # Each rocket has an (x,y) position.\n",
    "        self.x = 0\n",
    "        self.y = 0\n",
    "        \n",
    "    def move_up(self):\n",
    "        # Increment the y-position of the rocket.\n",
    "        self.y += 1\n",
    "\n",
    "# Create a Rocket object, and have it start to move up.\n",
    "my_rocket = Rocket()\n",
    "print(\"Rocket altitude:\", my_rocket.y)\n",
    "\n",
    "my_rocket.move_up()\n",
    "print(\"Rocket altitude:\", my_rocket.y)\n",
    "\n",
    "my_rocket.move_up()\n",
    "print(\"Rocket altitude:\", my_rocket.y)"
   ]
  },
  {
   "cell_type": "markdown",
   "metadata": {},
   "source": [
    "Para acceder a las variables/atributos de un objeto se utiliza la *dot notation* . Así que para acceder al valor y de *my\\_rocket*, se usa *my\\_rocket.y*. Para usar el método move_up() se utiliza *my\\_rocket.move\\_up()*.\n",
    "\n",
    "Una vez que tienes definida una clase, puedes crear tantos objetos de la clase como quieras. Cada objeto es una instancia de esa clase con sus propias variables. Todos los objetos tienen el mismo comportamiento, pero las acciones o llamadas a los métodos solo afectan al objeto que los invoca. Vamos a ver como podríamos crear una \"flota\" de cohetes:"
   ]
  },
  {
   "cell_type": "code",
   "execution_count": null,
   "metadata": {
    "collapsed": false,
    "jupyter": {
     "outputs_hidden": false
    }
   },
   "outputs": [],
   "source": [
    "class Rocket():\n",
    "    # Rocket simulates a rocket ship for a game,\n",
    "\n",
    "    \n",
    "    def __init__(self):\n",
    "        # Each rocket has an (x,y) position.\n",
    "        self.x = 0\n",
    "        self.y = 0\n",
    "        \n",
    "    def move_up(self):\n",
    "        # Increment the y-position of the rocket.\n",
    "        self.y += 1\n",
    "        \n",
    "# Create a fleet of 5 rockets, and store them in a list.\n",
    "my_rockets = []\n",
    "for x in range(0,5):\n",
    "    new_rocket = Rocket()\n",
    "    my_rockets.append(new_rocket)\n",
    "\n",
    "# Show that each rocket is a separate object.\n",
    "for rocket in my_rockets:\n",
    "    print(rocket)"
   ]
  },
  {
   "cell_type": "markdown",
   "metadata": {},
   "source": [
    "Como puedes ver cada objeto está en un lugar diferente de la memoria. Si además estás familiarizado con las [list comprehensions](http://introtopython.org/lists_tuples.html#comprehensions), verás que podemos definir la flota en una sola linea:"
   ]
  },
  {
   "cell_type": "code",
   "execution_count": null,
   "metadata": {
    "collapsed": false,
    "jupyter": {
     "outputs_hidden": false
    }
   },
   "outputs": [],
   "source": [
    "class Rocket():\n",
    "    # Rocket simulates a rocket ship for a game,\n",
    "    #  or a physics simulation.\n",
    "    \n",
    "    def __init__(self):\n",
    "        # Each rocket has an (x,y) position.\n",
    "        self.x = 0\n",
    "        self.y = 0\n",
    "        \n",
    "    def move_up(self):\n",
    "        # Increment the y-position of the rocket.\n",
    "        self.y += 1\n",
    "        \n",
    "# Create a fleet of 5 rockets, and store them in a list.\n",
    "my_rockets = [Rocket() for x in range(0,5)]\n",
    "\n",
    "# Show that each rocket is a separate object.\n",
    "for rocket in my_rockets:\n",
    "    print(rocket)"
   ]
  },
  {
   "cell_type": "markdown",
   "metadata": {},
   "source": [
    "Podemos ver que cada uno de los cohete tiene sus propios atributos y coordenadas moviendo uno de los cohetes:"
   ]
  },
  {
   "cell_type": "code",
   "execution_count": null,
   "metadata": {
    "collapsed": false,
    "jupyter": {
     "outputs_hidden": false
    }
   },
   "outputs": [],
   "source": [
    "class Rocket():\n",
    "    # Rocket simulates a rocket ship for a game,\n",
    "    \n",
    "    def __init__(self):\n",
    "        # Each rocket has an (x,y) position.\n",
    "        self.x = 0\n",
    "        self.y = 0\n",
    "        \n",
    "    def move_up(self):\n",
    "        # Increment the y-position of the rocket.\n",
    "        self.y += 1\n",
    "        \n",
    "# Create a fleet of 5 rockets, and store them in a list.\n",
    "my_rockets = [Rocket() for x in range(0,5)]\n",
    "\n",
    "# Move the first rocket up.\n",
    "my_rockets[0].move_up()\n",
    "\n",
    "# Show that only the first rocket has moved.\n",
    "for rocket in my_rockets:\n",
    "    print(\"Rocket altitude:\", rocket.y)"
   ]
  },
  {
   "cell_type": "markdown",
   "metadata": {},
   "source": [
    "La sintaxis de las clases puede parecer un poco complicada. Pero piensa como podrías crear un cohete sin usar clases, y piensa en como generarias una flota de cohetes. Y si piensas en como incorporar más métodos verás que los objetos del mundo real se podrán modelar con clases de una manera más sencilla que con clases o diccionarios."
   ]
  },
  {
   "cell_type": "markdown",
   "metadata": {},
   "source": [
    "Terminología orientada a objetos\n",
    "===\n",
    "\n",
    "LAs clases son parte de un paradigma de programación la **programación orientada a objetos**. La programación orientada a objetos u OPP, busca counstruir bloques de código reusables denominados clases. Cuando quieres usar una clase en uno de tus programas, creas un **objeto** de esa clase. Python puede funcionar con el paradigma orinetado a objetos, o con el paradigma funcional. Dependerá del tipo de uso que queramos hacer el que utilicemos uno u otro. En Data Science, la mayoria de los desarrollos se pueden realizar utilizando un paradigma funcional, pero en algunas ocasiones tendermos que crear objetos y métodos en el paradigma OPP, con lo que es importante que nos familiaricemos con ella:"
   ]
  },
  {
   "cell_type": "markdown",
   "metadata": {},
   "source": [
    "Terminología general\n",
    "---\n",
    "Una **clase** es el código que define los **atributos** y **métodos** necesarios para modelar el comportamiento de las entidades que necesitas para tu programa. Puedes modelar objetos o entidades del mundo real (cohetes, personas...) o puedes modelar entidades del mundo virtual como entidades de un juego, o componentes de un programa (una ventana, el canvas de una aplicación).\n",
    "\n",
    "Un **atributo** es una pieza de información. Esto en código, es basicamente una variable que forma parte de la clase.\n",
    "\n",
    "Un **método** es una acción que está definida en una clase. En código esto son funciones que están definidas dentro de la clase.\n",
    "\n",
    "Un **objeto** es una instancia de la clase. Un objeto tendrá una serie de valores para todos los atributos de la clase. Se pueden crear tantos objetos de una clase como se quiera.\n",
    "\n",
    "Esta terminología será de utilidad para ir avanzando en el conocimiento de las clases y la programación orientada a objetos."
   ]
  },
  {
   "cell_type": "markdown",
   "metadata": {},
   "source": [
    "Más sobre la clase Rocket\n",
    "---\n",
    "Ahora que has visto como se define una clase, y hemos visto también algo de terminología sobre orientación a objetos, vamos a ver un poquito más sobre la clase Rocket."
   ]
  },
  {
   "cell_type": "markdown",
   "metadata": {},
   "source": [
    "El método \\_\\_init\\_\\_() \n",
    "---\n",
    "Como vimos se define la clase Rocket de la siguiente manera:"
   ]
  },
  {
   "cell_type": "code",
   "execution_count": null,
   "metadata": {
    "collapsed": false,
    "jupyter": {
     "outputs_hidden": false
    }
   },
   "outputs": [],
   "source": [
    "class Rocket():\n",
    "    # Rocket simulates a rocket ship for a game,\n",
    "    #  or a physics simulation.\n",
    "    \n",
    "    def __init__(self):\n",
    "        # Each rocket has an (x,y) position.\n",
    "        self.x = 0\n",
    "        self.y = 0"
   ]
  },
  {
   "cell_type": "markdown",
   "metadata": {},
   "source": [
    "La primera línea es la definición de la classe en Python. La palabra clave **class** indica a Python que se está definiendo una clase. En general las clases se nombran usando CamelCase. Eso quiere decir que cada letra que comienza una palabra está en mayuscula, y no se usan _ .El nombre de la clase va seguido por unos paréntesis. Por ahora vemos que están vacios, pero veremos que pueden incluir el nombre de clases en las que se basan(o de las que heredan).\n",
    "\n",
    "Los nombre de funciones que empiezan por dos guiones bajos son funciones especialesque se usan de una manera determinada en Python. Por ejemplo el método  \\_\\_init()\\_\\_ es una de esas funciones especiales y se invoca automáticamente cuando creas un objeto de la clase. El método \\_\\_init()\\_\\_ te permite asegurar que todos los atributos relevantes se inicializan a valores apropiados cuando creas un objeto de una clase, antes de que uses dicho objeto. En el caso de nuestra clase cohete, el método \\_\\_init\\_\\_() inicializa los valores de las coordenadas x e y a 0.\n",
    "\n",
    "La palabrá clave **self** es a veces un poco más complicada de entender para algunas personas. La palabra \"self\" es una \"auto-referencia\", es decir, indica que nos referimos al objeto \"actual\" con el que estamos trabajando. Cuando estás escribiendo una clase, con else te puedes referir a ciertos atributos de otra parte de la clase. Básicamente, todos los métodos en una clase necesitan el objeto *self* como su primer argumento, de manera que puedan acceder a cualquier atributo de la clase.\n",
    "\n",
    "Ahora vamos a hablar sobre los **metodos**."
   ]
  },
  {
   "cell_type": "markdown",
   "metadata": {},
   "source": [
    "Un metodo sencillo \n",
    "---\n",
    "Aquí está el método que hemos definido en la clase Rocket:"
   ]
  },
  {
   "cell_type": "code",
   "execution_count": null,
   "metadata": {
    "collapsed": false,
    "jupyter": {
     "outputs_hidden": false
    }
   },
   "outputs": [],
   "source": [
    "class Rocket():\n",
    "    # Rocket simulates a rocket ship for a game,\n",
    "    \n",
    "    def __init__(self):\n",
    "        # Each rocket has an (x,y) position.\n",
    "        self.x = 0\n",
    "        self.y = 0\n",
    "        \n",
    "    def move_up(self):\n",
    "        # Increment the y-position of the rocket.\n",
    "        self.y += 1"
   ]
  },
  {
   "cell_type": "markdown",
   "metadata": {},
   "source": [
    "Un método es una función que es parte de una clase. Como se trata de una función, tiene las mismas propiedades, y acepta argumentos como vimos en las funciones (posicionales, con keywords, y con args y kwargs..\n",
    "\n",
    "Cada método debe aceptar un argumento por defecto, el valor **self**. Este argumento es una referencia al objeto que está invocando el método. Ese argumento *self* nos da acceso a los atributos del objeto que está invocando al método. Por ejemplo aquí el argumento self se usa para acceder al valor del atributo del objeto. El valor en este método que hace que el cohete se mueva hacia arriba, incrementa el valor de la y en 1cada vez que el método move_up() se invoca por parte de un objeto de la clase Rocket. \n",
    "\n",
    "Vamos a verlo en práctica para tratar de entenderlo:"
   ]
  },
  {
   "cell_type": "code",
   "execution_count": null,
   "metadata": {
    "collapsed": false,
    "jupyter": {
     "outputs_hidden": false
    }
   },
   "outputs": [],
   "source": [
    "class Rocket():\n",
    "    # Rocket simulates a rocket ship for a game,\n",
    "    \n",
    "    def __init__(self):\n",
    "        # Each rocket has an (x,y) position.\n",
    "        self.x = 0\n",
    "        self.y = 0\n",
    "        \n",
    "    def move_up(self):\n",
    "        # Increment the y-position of the rocket.\n",
    "        self.y += 1\n",
    "\n",
    "# Create a Rocket object, and have it start to move up.\n",
    "my_rocket = Rocket()\n",
    "print(\"Rocket altitude:\", my_rocket.y)\n",
    "\n",
    "my_rocket.move_up()\n",
    "print(\"Rocket altitude:\", my_rocket.y)\n",
    "\n",
    "my_rocket.move_up()\n",
    "print(\"Rocket altitude:\", my_rocket.y)"
   ]
  },
  {
   "cell_type": "markdown",
   "metadata": {},
   "source": [
    "En este ejemplo se crea un objeto de la clase Rocket en la variable my_rocket. Después de que el objeto es creado, se imprime el valor de su atributo *y*. El valor del atributo *y* es accedido utilizando la dot notation. La expresión *my\\_rocket.y* retorna \"el valor de la variable y del objeto my_rocket\".\n",
    "\n",
    "Después de que creamos el objeto my_rocket vemos el calor de su atributo-y. Después invocamos al metodo move_up(). Esto hace que se ejecute el método move_up() sobre el objeto my_rocket. Python se encarga de encontrar el valor de *y*asociado al objeto my_rocket y lo incrementa en 1 . En el ejemplo hacemos esto dos veces, y vemos como el valor del atributo y se está incrementando."
   ]
  },
  {
   "cell_type": "markdown",
   "metadata": {},
   "source": [
    "Creando múltiples objetos de una clase.\n",
    "---\n",
    "Uno de los objetivos del la programación orientada a objetos es crear código reusable. Una vez que hemos escrito el código para una clase, puedes crear tantos objetos de la misma como necesites. Cuando trabajemos con varios ficheros, generalmente utilizaremos un fichero independiente para definir la clase, y después lo importaremos en los programas en los que lo usemos. De esta forma podemos ir creando una librería de clases, y reutilizarlas en nuestros programas.\n",
    "\n",
    "Vamos a ver la reusabilidad de las clases creando una \"flota\" de objetos de la clase Rocket:"
   ]
  },
  {
   "cell_type": "code",
   "execution_count": null,
   "metadata": {
    "collapsed": false,
    "jupyter": {
     "outputs_hidden": false
    }
   },
   "outputs": [],
   "source": [
    "class Rocket():\n",
    "    # Rocket simulates a rocket ship for a game,\n",
    "    \n",
    "    def __init__(self):\n",
    "        # Each rocket has an (x,y) position.\n",
    "        self.x = 0\n",
    "        self.y = 0\n",
    "        \n",
    "    def move_up(self):\n",
    "        # Increment the y-position of the rocket.\n",
    "        self.y += 1\n",
    "        \n",
    "# Create a fleet of 5 rockets, and store them in a list.\n",
    "my_rockets = []\n",
    "for x in range(0,5):\n",
    "    new_rocket = Rocket()\n",
    "    my_rockets.append(new_rocket)\n",
    "\n",
    "# Show that each rocket is a separate object.\n",
    "for rocket in my_rockets:\n",
    "    print(rocket)"
   ]
  },
  {
   "cell_type": "markdown",
   "metadata": {},
   "source": [
    "En este bucle hemos creado diferentes objetos de la clase Rocket, y los hemos añadido a la listamy\\_rockets. El método  \\_\\_init\\_\\_() se ejecuta para crear cada uno de los objetosde manera que cada cohete tiene un atributo x e y definido. Cuando un método se invoca en uno de esos objetos , la variable *self* permitirá acceder a los atributis de ese objeto concreto, y asegurará que modificar un objeto no afecta a los demás objetos de la lista. Podremos trabajar con cada uno de estos objetos de manera individual.\n",
    "\n",
    "En este punto ya estamos preparados para añadir más funcionalidad a nuestra clase Rocket :"
   ]
  },
  {
   "cell_type": "markdown",
   "metadata": {},
   "source": [
    "Refinando la clase Rocket\n",
    "===\n",
    "Hasta el momento la clase Rocket es bastante sencilla. Vamos a empezar a incluir nuevas elementos en ella."
   ]
  },
  {
   "cell_type": "markdown",
   "metadata": {},
   "source": [
    "Aceptando parámetros en el método \\_\\_init\\_\\_() \n",
    "---\n",
    "El método \\_\\_init\\_\\_() se ejecuta automaticamente cuando creas un objeto de la clase. \n",
    "Hasta el momento el método \\_\\_init\\_\\_() de la clase Rocket es bastante sencillo."
   ]
  },
  {
   "cell_type": "markdown",
   "metadata": {},
   "source": [
    "Todo lo que hace hasta el momento es inicializar los valores de x e y a 0. Pero podemos hacer que se inicialice la posición con unos valores diferentes si incluimos unos argumentos en la función de inicialización:"
   ]
  },
  {
   "cell_type": "code",
   "execution_count": null,
   "metadata": {
    "collapsed": false,
    "jupyter": {
     "outputs_hidden": false
    }
   },
   "outputs": [],
   "source": [
    "class Rocket():\n",
    "    # Rocket simulates a rocket ship for a game,\n",
    "    \n",
    "    def __init__(self, x=0, y=0):\n",
    "        # Each rocket has an (x,y) position.\n",
    "        self.x = x\n",
    "        self.y = y\n",
    "        \n",
    "    def move_up(self):\n",
    "        # Increment the y-position of the rocket.\n",
    "        self.y += 1"
   ]
  },
  {
   "cell_type": "markdown",
   "metadata": {},
   "source": [
    "Ahora al crear un nuevo objeto de la clase Rocket tienes la opción de pasar unos valores iniciales para la x y la y:"
   ]
  },
  {
   "cell_type": "code",
   "execution_count": null,
   "metadata": {
    "collapsed": false,
    "jupyter": {
     "outputs_hidden": false
    }
   },
   "outputs": [],
   "source": [
    "class Rocket():\n",
    "    # Rocket simulates a rocket ship for a game,\n",
    "    \n",
    "    def __init__(self, x=0, y=0):\n",
    "        # Each rocket has an (x,y) position.\n",
    "        self.x = x\n",
    "        self.y = y\n",
    "        \n",
    "    def move_up(self):\n",
    "        # Increment the y-position of the rocket.\n",
    "        self.y += 1\n",
    "        \n",
    "# Make a series of rockets at different starting places.\n",
    "rockets = []\n",
    "rockets.append(Rocket())\n",
    "rockets.append(Rocket(0,10))\n",
    "rockets.append(Rocket(100,0))\n",
    "\n",
    "# Show where each rocket is.\n",
    "for index, rocket in enumerate(rockets):\n",
    "    print(\"Rocket %d is at (%d, %d).\" % (index, rocket.x, rocket.y))"
   ]
  },
  {
   "cell_type": "markdown",
   "metadata": {},
   "source": [
    "Incluyendo parámetros en los métodos\n",
    "---\n",
    "El método \\_\\_init\\_\\_ es un caso especial que crea nuevos objetos de la clase en cuestión. Pero cualquier otro método de la clase puede aceptar parámetros. Con esto en mente, podemos hacer un método move_up() que sea más flexible. Si incluimos en el método argumentos con keywords, podemos transformar el método move_up() en uno más genérico que nos ayude a mover el cohete, llamado move_rocket(). Este nuevo método nos permitirá mover el cohete en cualquier dirección:"
   ]
  },
  {
   "cell_type": "code",
   "execution_count": null,
   "metadata": {
    "collapsed": false,
    "jupyter": {
     "outputs_hidden": false
    }
   },
   "outputs": [],
   "source": [
    "class Rocket():\n",
    "    # Rocket simulates a rocket ship for a game,\n",
    "    \n",
    "    def __init__(self, x=0, y=0):\n",
    "        # Each rocket has an (x,y) position.\n",
    "        self.x = x\n",
    "        self.y = y\n",
    "        \n",
    "    def move_rocket(self, x_increment=0, y_increment=1):\n",
    "        # Move the rocket according to the paremeters given.\n",
    "        #  Default behavior is to move the rocket up one unit.\n",
    "        self.x += x_increment\n",
    "        self.y += y_increment"
   ]
  },
  {
   "cell_type": "markdown",
   "metadata": {},
   "source": [
    "Los parámetros en el método move() ahora son x_increment e y_increment en lugar de x e y. Es bueno remarcar que estos nuevos parámetros son cambios relativos, y no nuevos valores para la posición del cohete. Así escogiendo los valores por defecto, podemos definir comportamientos por defecto que nos interesen. Por ejemplo en este caso si alguien invoca el método move_rocket() sin parámetros, el cohete se movera hacia arriba una unidad en la dirección y. Fijaos que el método puede recibir valores negativos que le permitirán por ejemplo moverse a derecha o izquierda:"
   ]
  },
  {
   "cell_type": "code",
   "execution_count": null,
   "metadata": {
    "collapsed": false,
    "jupyter": {
     "outputs_hidden": false
    }
   },
   "outputs": [],
   "source": [
    "class Rocket():\n",
    "    # Rocket simulates a rocket ship for a game,\n",
    "    \n",
    "    def __init__(self, x=0, y=0):\n",
    "        # Each rocket has an (x,y) position.\n",
    "        self.x = x\n",
    "        self.y = y\n",
    "        \n",
    "    def move_rocket(self, x_increment=0, y_increment=1):\n",
    "        # Move the rocket according to the paremeters given.\n",
    "        #  Default behavior is to move the rocket up one unit.\n",
    "        self.x += x_increment\n",
    "        self.y += y_increment\n",
    "        \n",
    "# Create three rockets.\n",
    "rockets = [Rocket() for x in range(0,3)]\n",
    "\n",
    "# Move each rocket a different amount.\n",
    "rockets[0].move_rocket()\n",
    "rockets[1].move_rocket(10,10)\n",
    "rockets[2].move_rocket(-10,0)\n",
    "          \n",
    "# Show where each rocket is.\n",
    "for index, rocket in enumerate(rockets):\n",
    "    print(\"Rocket %d is at (%d, %d).\" % (index, rocket.x, rocket.y))"
   ]
  },
  {
   "cell_type": "markdown",
   "metadata": {},
   "source": [
    "Incluyendo un nuevo método\n",
    "---\n",
    "Una de las fortalezas de la programación orientada a objetos, es la posibilidad de modelar comportamientos de entidades del mundo real añadiendo nuevos atributos y métodos a las clases. Una de las tareas clave que debe hacer un cohete, es no acercarse demasiado a otros cohetes. Añadamos pues un método que nos diga la distancia a otro cohete.\n",
    "\n",
    "Si no sabes como calcular la distancia entre dos puntos, sabiendo sus coordenadas x e y puedes calcular la raiz cuadradas de los cuadrados de de las diferencias de sus coordenadas. Veamos como se implementaría:"
   ]
  },
  {
   "cell_type": "code",
   "execution_count": null,
   "metadata": {
    "collapsed": false,
    "jupyter": {
     "outputs_hidden": false
    }
   },
   "outputs": [],
   "source": [
    "###highlight=[19,20,21,22,23,24,25,26,27,28,29,30,31]\n",
    "from math import sqrt\n",
    "\n",
    "class Rocket():\n",
    "    # Rocket simulates a rocket ship for a game,\n",
    "    #  or a physics simulation.\n",
    "    \n",
    "    def __init__(self, x=0, y=0):\n",
    "        # Each rocket has an (x,y) position.\n",
    "        self.x = x\n",
    "        self.y = y\n",
    "        \n",
    "    def move_rocket(self, x_increment=0, y_increment=1):\n",
    "        # Move the rocket according to the paremeters given.\n",
    "        #  Default behavior is to move the rocket up one unit.\n",
    "        self.x += x_increment\n",
    "        self.y += y_increment\n",
    "        \n",
    "    def get_distance(self, other_rocket):\n",
    "        # Calculates the distance from this rocket to another rocket,\n",
    "        #  and returns that value.\n",
    "        distance = sqrt((self.x-other_rocket.x)**2+(self.y-other_rocket.y)**2)\n",
    "        return distance\n",
    "    \n",
    "# Make two rockets, at different places.\n",
    "rocket_0 = Rocket()\n",
    "rocket_1 = Rocket(10,5)\n",
    "\n",
    "# Show the distance between them.\n",
    "distance = rocket_0.get_distance(rocket_1)\n",
    "print(\"The rockets are %f units apart.\" % distance)"
   ]
  },
  {
   "cell_type": "markdown",
   "metadata": {},
   "source": [
    "Esto ha extendido los comportamiento y atributos de la clase y nos permite modelar el comportamiento de un problema real de una manera más cercana. Podríamos añadir al cohete nuevos atributos, como un nombre, la capacidad, la carga, la cantidad de combústible, etc. Y tambien puedes empezar a incluir otro tipo de comportamientos, que podrían incluir interacciones con otros cohetes, con la base de operaciones, o cualquier cosa que necesites. Existen muchas formas de incluir iteraciones más complejas, pero aquí hemos visto las bases de la programación orientada a objetos.\n",
    "\n",
    "En este punto vamos a tratar de escribir alguna clase por nosotros mismos, para practicar. Después de esa práctica veremos la herencia en clases, y con eso habremos cubierto lo más importsante de la orientación a objetos."
   ]
  },
  {
   "cell_type": "markdown",
   "metadata": {},
   "source": [
    "Herencia\n",
    "===\n",
    "Uno de los principales objetivos de la programación orientada a objetos es la creacción de código reusable. Si tenemos que crear una nueva clase para cada tipo de objeto que queramos modelar, será dificil que podamos reutilizar código. En Python y otros lenguajes que soportan OOP, una clase puede **heredar** de otra clase. Esto quiere decir que puedes basar una nueva clase en una ya existente. La nueva clase *hereda* todos los atributos de la clase en la que se basa. Una nueva clase puede hacer *override* de los atributos de la clase que no quiera utilizar de la clase que hereda, y puede añadir atributos o métodos\n",
    "/comportamientos que sean necesarios. La clase original se denomina **parent** class o base, y la nueva clase se denomina clase hija o **child** de la clase base. La clase base a veces también se llama **superclass**, y la hija se denomina **subclass**.\n",
    "\n",
    "La clase child hereds todos los atributios y comportamientos de la clase padre, pero los atributos que se definan en la clase hija, no estarán disponibles para la clase padre. Esto puede resultar obvio para muchas personas, pero es necesario remarcarlos. Esto también quiere decir que se puede hacer un override de los métodos de la clase padre. Si en la clase hijo definimos un método que tiene el mismo nombre que en la clase padre, los objetos de la clase hijo usarán el nuevo metodo en vez de el de la clase padre.\n",
    "\n",
    "Vamos a ver ahora un caso de clase que hereda de nuestra clase Rocket, para tratar de entender el concepto de herencia."
   ]
  },
  {
   "cell_type": "markdown",
   "metadata": {},
   "source": [
    "La clase SpaceShuttle \n",
    "---\n",
    "Si quisieramos modelar un transbordador espacial, podrías escribir una nueva clase desde cero. Pero un transbordador es una modelo específico de cohete. En vez de escribir una clase entere, podríamos heredar desde la clase Rocket, y heredar sus atributos y comportamientos, y posteriormente añadir atributos y métodos que sean específicos de un transbordador.\n",
    "\n",
    "La diferencia más significativa de un transbordador es que puede ser reutilizado. Así que vamos a incluir una variable o atributo que nos indique la cantidad de vuelos que se han realizado, y mantenga el resto de atributos y métodos ya codificados en la clase Rocket.\n",
    "\n",
    "Vamos a ver como sería la clase Shuttle:"
   ]
  },
  {
   "cell_type": "code",
   "execution_count": null,
   "metadata": {
    "collapsed": false,
    "jupyter": {
     "outputs_hidden": false
    }
   },
   "outputs": [],
   "source": [
    "from math import sqrt\n",
    "\n",
    "class Rocket():\n",
    "    # Rocket simulates a rocket ship for a game,\n",
    "    \n",
    "    def __init__(self, x=0, y=0):\n",
    "        # Each rocket has an (x,y) position.\n",
    "        self.x = x\n",
    "        self.y = y\n",
    "        \n",
    "    def move_rocket(self, x_increment=0, y_increment=1):\n",
    "        # Move the rocket according to the paremeters given.\n",
    "        #  Default behavior is to move the rocket up one unit.\n",
    "        self.x += x_increment\n",
    "        self.y += y_increment\n",
    "        \n",
    "    def get_distance(self, other_rocket):\n",
    "        # Calculates the distance from this rocket to another rocket,\n",
    "        #  and returns that value.\n",
    "        distance = sqrt((self.x-other_rocket.x)**2+(self.y-other_rocket.y)**2)\n",
    "        return distance\n",
    "    \n",
    "class Shuttle(Rocket):\n",
    "    # Shuttle simulates a space shuttle, which is really\n",
    "    #  just a reusable rocket.\n",
    "    \n",
    "    def __init__(self, x=0, y=0, flights_completed=0):\n",
    "        super().__init__(x, y)\n",
    "        self.flights_completed = flights_completed\n",
    "        \n",
    "shuttle = Shuttle(10,0,3)\n",
    "print(shuttle)"
   ]
  },
  {
   "cell_type": "markdown",
   "metadata": {},
   "source": [
    "Cuando una nueva clase se basa o hereda de una clase existente, se escribe el nombre de la clase padre en los paréntesis al definir la clase nueva:\n",
    "\n",
    "    "
   ]
  },
  {
   "cell_type": "markdown",
   "metadata": {
    "jupyter": {
     "outputs_hidden": false
    }
   },
   "source": [
    "class NewClass(ParentClass):"
   ]
  },
  {
   "cell_type": "markdown",
   "metadata": {},
   "source": [
    "El método \\_\\_init\\_\\_() de la nueva clase tiene que invocar al método  \\_\\_init\\_\\_() de la clase padre. El método  \\_\\_init\\_\\_() de la nueva clase debe aceptar los parámetro requeridos para crear el objeto de la clase padre, y estos parámetros se tienen que pasar al método \\_\\_init\\_\\_() de la clase padre. Esto se hace con la expresión *super().\\_\\_init\\_\\_()* :"
   ]
  },
  {
   "cell_type": "markdown",
   "metadata": {
    "jupyter": {
     "outputs_hidden": false
    }
   },
   "source": [
    "```python\n",
    "\n",
    "class NewClass(ParentClass):\n",
    "    \n",
    "    def __init__(self, arguments_new_class, arguments_parent_class):\n",
    "        super().__init__(arguments_parent_class)\n",
    "        # Code for initializing an object of the new class.\n",
    "```"
   ]
  },
  {
   "cell_type": "markdown",
   "metadata": {},
   "source": [
    "La función *super()* pasa el argumento self a la clase padre de manera automática. Esto también se puede hacer de manera diferente usando de manera explicita el nombre de la clase padre llamando a la función \\_\\_init\\_\\_(), pero en ese caso tenemos que incluir el argumento *self* manualmente:"
   ]
  },
  {
   "cell_type": "code",
   "execution_count": null,
   "metadata": {
    "collapsed": false,
    "jupyter": {
     "outputs_hidden": false
    }
   },
   "outputs": [],
   "source": [
    "class Shuttle(Rocket):\n",
    "    # Shuttle simulates a space shuttle, which is really\n",
    "    #  just a reusable rocket.\n",
    "    \n",
    "    def __init__(self, x=0, y=0, flights_completed=0):\n",
    "        Rocket.__init__(self, x, y)\n",
    "        self.flights_completed = flights_completed"
   ]
  },
  {
   "cell_type": "markdown",
   "metadata": {},
   "source": [
    "Es recomendable utilizar en la sintaxis la llamada *super()* . Cuando utilizas *super()*, no necesitas explicitamente el nombre de la clase padre, y tu código es más resistente a posibles cambios. Veremos que puede haber clases que hereden de varias clases (será en caso en sklearn). Lo veremos entonces."
   ]
  },
  {
   "cell_type": "markdown",
   "metadata": {},
   "source": [
    "Arriba hemos visto como creamos objetos Shuttle  que incluyen el número de vuelos, pero además tienen toda la funcionalidad de la clase Rocket: tenemos una posición que puede ser cambiada, podemos calcular la distancia entre cohetes y transbordadores, etc. Vamos a crear una serie de cohetes y transbordadores, e inicializaremos sus posiciones de manera aleatoria con randint():"
   ]
  },
  {
   "cell_type": "code",
   "execution_count": null,
   "metadata": {
    "collapsed": false,
    "jupyter": {
     "outputs_hidden": false
    }
   },
   "outputs": [],
   "source": [
    "from math import sqrt\n",
    "from random import randint\n",
    "\n",
    "class Rocket():\n",
    "    # Rocket simulates a rocket ship for a game,\n",
    "    #  or a physics simulation.\n",
    "    \n",
    "    def __init__(self, x=0, y=0):\n",
    "        # Each rocket has an (x,y) position.\n",
    "        self.x = x\n",
    "        self.y = y\n",
    "        \n",
    "    def move_rocket(self, x_increment=0, y_increment=1):\n",
    "        # Move the rocket according to the paremeters given.\n",
    "        #  Default behavior is to move the rocket up one unit.\n",
    "        self.x += x_increment\n",
    "        self.y += y_increment\n",
    "        \n",
    "    def get_distance(self, other_rocket):\n",
    "        # Calculates the distance from this rocket to another rocket,\n",
    "        #  and returns that value.\n",
    "        distance = sqrt((self.x-other_rocket.x)**2+(self.y-other_rocket.y)**2)\n",
    "        return distance\n",
    "    \n",
    "class Shuttle(Rocket):\n",
    "    # Shuttle simulates a space shuttle, which is really\n",
    "    #  just a reusable rocket.\n",
    "    \n",
    "    def __init__(self, x=0, y=0, flights_completed=0):\n",
    "        super().__init__(x, y)\n",
    "        self.flights_completed = flights_completed\n",
    "        \n",
    "        \n",
    "# Create several shuttles and rockets, with random positions.\n",
    "#  Shuttles have a random number of flights completed.\n",
    "shuttles = []\n",
    "for x in range(0,3):\n",
    "    x = randint(0,100)\n",
    "    y = randint(1,100)\n",
    "    flights_completed = randint(0,10)\n",
    "    shuttles.append(Shuttle(x, y, flights_completed))\n",
    "\n",
    "rockets = []\n",
    "for x in range(0,3):\n",
    "    x = randint(0,100)\n",
    "    y = randint(1,100)\n",
    "    rockets.append(Rocket(x, y))\n",
    "    \n",
    "# Show the number of flights completed for each shuttle.\n",
    "for index, shuttle in enumerate(shuttles):\n",
    "    print(\"Shuttle %d has completed %d flights.\" % (index, shuttle.flights_completed))\n",
    "    \n",
    "print(\"\\n\")    \n",
    "# Show the distance from the first shuttle to all other shuttles.\n",
    "first_shuttle = shuttles[0]\n",
    "for index, shuttle in enumerate(shuttles):\n",
    "    distance = first_shuttle.get_distance(shuttle)\n",
    "    print(\"The first shuttle is %f units away from shuttle %d.\" % (distance, index))\n",
    "\n",
    "print(\"\\n\")\n",
    "# Show the distance from the first shuttle to all other rockets.\n",
    "for index, rocket in enumerate(rockets):\n",
    "    distance = first_shuttle.get_distance(rocket)\n",
    "    print(\"The first shuttle is %f units away from rocket %d.\" % (distance, index))"
   ]
  },
  {
   "cell_type": "markdown",
   "metadata": {},
   "source": [
    "La herencia es una característica muy potente en la programación orientada a objetos, que es un paradigma que nos permite modelar problemas del mundo real de una manera más sencilla, conforme aumenta el grado de dificultad. Además potencia el uso de la modularidad y reutilización de código."
   ]
  },
  {
   "cell_type": "markdown",
   "metadata": {},
   "source": [
    "Módulos y clases\n",
    "===\n",
    "Ahora que vamos a usar clases, tus ficheros van a empezar a crecer. Probablemente esto suponga que estamos resolviendo problemas más interesantes, pero por otra parte más lineas puede suponer más errores, y dificultad en mantenimientos. \n",
    "\n",
    "Python te permite salvar tus clases en otros ficheros y después importarlos en los programas que estás realizando. Además si creamos clases en ficheros, podemos reutilizarlas en diferentes programas"
   ]
  },
  {
   "cell_type": "markdown",
   "metadata": {},
   "source": [
    "Almacenando una clase en un fichero separado\n",
    "---\n",
    "\n",
    "``Este apartado podremos trabajarlo cuando hayamos cubierto los IDEs e instalación local``\n",
    "\n",
    "Cuando salvas una clase en un fichero, ese fichero se denomina **modulo**. Puedes tener un numero de clases variable en un módulo único. Ya vimos como podiamos importar módulos, y hay diferentes formas en las que puedes importar clases en las que estás interesado.\n",
    "\n",
    "Vamos a salvar nuestra clase Rocket en un fichero llamado *rocket.py*. Fijaros en la convención para el nombre, porque estamos salvando el fichero en miníscula, cuando la clase comienza en mayúscula. **Esta convención es importante, y tenemos que seguirla**."
   ]
  },
  {
   "cell_type": "code",
   "execution_count": null,
   "metadata": {
    "collapsed": false,
    "jupyter": {
     "outputs_hidden": false
    }
   },
   "outputs": [],
   "source": [
    "# Save as rocket.py\n",
    "from math import sqrt\n",
    "\n",
    "class Rocket():\n",
    "    # Rocket simulates a rocket ship for a game,\n",
    "    #  or a physics simulation.\n",
    "    \n",
    "    def __init__(self, x=0, y=0):\n",
    "        # Each rocket has an (x,y) position.\n",
    "        self.x = x\n",
    "        self.y = y\n",
    "        \n",
    "    def move_rocket(self, x_increment=0, y_increment=1):\n",
    "        # Move the rocket according to the paremeters given.\n",
    "        #  Default behavior is to move the rocket up one unit.\n",
    "        self.x += x_increment\n",
    "        self.y += y_increment\n",
    "        \n",
    "    def get_distance(self, other_rocket):\n",
    "        # Calculates the distance from this rocket to another rocket,\n",
    "        #  and returns that value.\n",
    "        distance = sqrt((self.x-other_rocket.x)**2+(self.y-other_rocket.y)**2)\n",
    "        return distance"
   ]
  },
  {
   "cell_type": "markdown",
   "metadata": {},
   "source": [
    "Tendremos ahora que crear un fichero llamado *rocket_game.py*. De nuevo, si queremos utilizar buenas prácticas para el nombre del fichero estamos utilizando minúsculas y separación entre palabras con lowercase."
   ]
  },
  {
   "cell_type": "code",
   "execution_count": null,
   "metadata": {
    "collapsed": false,
    "jupyter": {
     "outputs_hidden": false
    }
   },
   "outputs": [],
   "source": [
    "# Save as rocket_game.py\n",
    "from rocket import Rocket\n",
    "\n",
    "rocket = Rocket()\n",
    "print(\"The rocket is at (%d, %d).\" % (rocket.x, rocket.y))"
   ]
  },
  {
   "cell_type": "markdown",
   "metadata": {},
   "source": [
    "En la primera línea estamos importanto la clase Rocket the un fichero llamado *rocket.py*. Vemos que tenemos ahora la capacidad de crear objetos sin tener que conocer la construcción interna de las clases. \n",
    "\n",
    "Inicialmente para poder hacer esto tenemos que tener los ficheros en el mismo directorio. Luego veremos que podremos hacer esto de manera diferente.\n",
    "\n",
    "Cuando Python encuentra el fichero *rocket.py*, busca la clase *Rocket*. Cuando lo encuentra, importa el código en el fichero actual."
   ]
  },
  {
   "cell_type": "markdown",
   "metadata": {},
   "source": [
    "Almacenando varias clases en el mismo módulo\n",
    "---\n",
    "\n",
    "Un módulo es un fichero que contiene varias clases o funciones . La clase Shuttle puede incluirse en el fichero rocket.py, y estará en el módulo por tanto, y podrá importarse también:"
   ]
  },
  {
   "cell_type": "code",
   "execution_count": null,
   "metadata": {
    "collapsed": false,
    "jupyter": {
     "outputs_hidden": false
    }
   },
   "outputs": [],
   "source": [
    "# Save as rocket.py\n",
    "from math import sqrt\n",
    "\n",
    "class Rocket():\n",
    "    # Rocket simulates a rocket ship for a game,\n",
    "    \n",
    "    def __init__(self, x=0, y=0):\n",
    "        # Each rocket has an (x,y) position.\n",
    "        self.x = x\n",
    "        self.y = y\n",
    "        \n",
    "    def move_rocket(self, x_increment=0, y_increment=1):\n",
    "        # Move the rocket according to the paremeters given.\n",
    "        #  Default behavior is to move the rocket up one unit.\n",
    "        self.x += x_increment\n",
    "        self.y += y_increment\n",
    "        \n",
    "    def get_distance(self, other_rocket):\n",
    "        # Calculates the distance from this rocket to another rocket,\n",
    "        #  and returns that value.\n",
    "        distance = sqrt((self.x-other_rocket.x)**2+(self.y-other_rocket.y)**2)\n",
    "        return distance\n",
    "    \n",
    "\n",
    "class Shuttle(Rocket):\n",
    "    # Shuttle simulates a space shuttle, which is really\n",
    "    #  just a reusable rocket.\n",
    "    \n",
    "    def __init__(self, x=0, y=0, flights_completed=0):\n",
    "        super().__init__(x, y)\n",
    "        self.flights_completed = flights_completed"
   ]
  },
  {
   "cell_type": "markdown",
   "metadata": {},
   "source": [
    "Ahora podemos importar la clase Rocket y Shuttle, y usar ambas en un fichero que queda bastante limpio a nivel código:"
   ]
  },
  {
   "cell_type": "code",
   "execution_count": null,
   "metadata": {
    "collapsed": false,
    "jupyter": {
     "outputs_hidden": false
    }
   },
   "outputs": [],
   "source": [
    "# Save as rocket_game.py\n",
    "from rocket import Rocket, Shuttle\n",
    "\n",
    "rocket = Rocket()\n",
    "print(\"The rocket is at (%d, %d).\" % (rocket.x, rocket.y))\n",
    "\n",
    "shuttle = Shuttle()\n",
    "print(\"\\nThe shuttle is at (%d, %d).\" % (shuttle.x, shuttle.y))\n",
    "print(\"The shuttle has completed %d flights.\" % shuttle.flights_completed)"
   ]
  },
  {
   "cell_type": "markdown",
   "metadata": {},
   "source": [
    "Estamos en este caso importando las calses *Rocket* y *Shuttle* del módulo *rocket* . No necesitas importar todas las clases en el módulo; y puedes escoger que clases quieres utilizar, con lo que Python no tiene que interpretar ese código."
   ]
  },
  {
   "cell_type": "markdown",
   "metadata": {},
   "source": [
    "Diferentes formas de importar módulos y clases\n",
    "---\n",
    "Vamos a ver diferentes maneras, aunque ya vimos esto en funciones y módulos."
   ]
  },
  {
   "cell_type": "markdown",
   "metadata": {},
   "source": [
    "### import *module_name*\n",
    "\n",
    "Esta es la forma que acabamos de ver:"
   ]
  },
  {
   "cell_type": "code",
   "execution_count": null,
   "metadata": {
    "collapsed": false,
    "jupyter": {
     "outputs_hidden": false
    }
   },
   "outputs": [],
   "source": [
    "from module_name import ClassName"
   ]
  },
  {
   "cell_type": "markdown",
   "metadata": {},
   "source": [
    "Es la forma más sencilla y directa, y probablemente la mas común. Es más limpia, pero puede tener un problema y es que existan clases con el mismo nombre en el namespace. Esto puede no ocurrir en programas más pequeños, pero conforme empiezan a crecer los programas puede empezar a ocurrir. Si esto pasara podriamos importar el módulo:"
   ]
  },
  {
   "cell_type": "code",
   "execution_count": null,
   "metadata": {
    "collapsed": false,
    "jupyter": {
     "outputs_hidden": false
    }
   },
   "outputs": [],
   "source": [
    "# Save as rocket_game.py\n",
    "import rocket\n",
    "\n",
    "rocket_0 = rocket.Rocket()\n",
    "print(\"The rocket is at (%d, %d).\" % (rocket_0.x, rocket_0.y))\n",
    "\n",
    "shuttle_0 = rocket.Shuttle()\n",
    "print(\"\\nThe shuttle is at (%d, %d).\" % (shuttle_0.x, shuttle_0.y))\n",
    "print(\"The shuttle has completed %d flights.\" % shuttle_0.flights_completed)"
   ]
  },
  {
   "cell_type": "markdown",
   "metadata": {},
   "source": [
    "Para evitar esos problemas de nombre podriamos importar el nombre del módulo, y luego utilizar la dot_notation para usar las clases o funciones:\n",
    "\n",
    "    "
   ]
  },
  {
   "cell_type": "code",
   "execution_count": null,
   "metadata": {
    "collapsed": false,
    "jupyter": {
     "outputs_hidden": false
    }
   },
   "outputs": [],
   "source": [
    "import module_name"
   ]
  },
  {
   "cell_type": "code",
   "execution_count": null,
   "metadata": {
    "collapsed": false,
    "jupyter": {
     "outputs_hidden": false
    }
   },
   "outputs": [],
   "source": [
    "module_name.ClassName"
   ]
  },
  {
   "cell_type": "markdown",
   "metadata": {},
   "source": [
    "Esto previene algunos conflictos pero vemos que en el caso anterior la variable tuvo que cambiar a rocket_0, porque el nombre más común *rocket* es el mismo que el del módulo y eso puede causar problemas. Esto hace que usemos alias para importar módulos y clases."
   ]
  },
  {
   "cell_type": "markdown",
   "metadata": {},
   "source": [
    "### import *module_name* as *local_module_name*\n",
    "\n",
    "Este aliasing es comunmente utilizado:"
   ]
  },
  {
   "cell_type": "code",
   "execution_count": null,
   "metadata": {
    "collapsed": false,
    "jupyter": {
     "outputs_hidden": false
    }
   },
   "outputs": [],
   "source": [
    "import module_name as local_module_name"
   ]
  },
  {
   "cell_type": "markdown",
   "metadata": {},
   "source": [
    "When you are importing a module into one of your projects, you are free to choose any name you want for the module in your project. So the last example could be rewritten in a way that the variable name *rocket* would not need to be changed:"
   ]
  },
  {
   "cell_type": "code",
   "execution_count": null,
   "metadata": {
    "collapsed": false,
    "jupyter": {
     "outputs_hidden": false
    }
   },
   "outputs": [],
   "source": [
    "# Save as rocket_game.py\n",
    "import rocket as rocket_module\n",
    "\n",
    "rocket = rocket_module.Rocket()\n",
    "print(\"The rocket is at (%d, %d).\" % (rocket.x, rocket.y))\n",
    "\n",
    "shuttle = rocket_module.Shuttle()\n",
    "print(\"\\nThe shuttle is at (%d, %d).\" % (shuttle.x, shuttle.y))\n",
    "print(\"The shuttle has completed %d flights.\" % shuttle.flights_completed)"
   ]
  },
  {
   "cell_type": "markdown",
   "metadata": {},
   "source": [
    "Como vimos en muchos casos utilizaremos aliasing para acortar los nombres, como importar numpy as np, y pandas as pd."
   ]
  },
  {
   "cell_type": "markdown",
   "metadata": {},
   "source": [
    "### from *module_name* import *\n",
    "Se podrían importar implicitamente las clase, funciones y métodos, pero como vimos es algo a evitar:"
   ]
  },
  {
   "cell_type": "code",
   "execution_count": null,
   "metadata": {
    "collapsed": false,
    "jupyter": {
     "outputs_hidden": false
    }
   },
   "outputs": [],
   "source": [
    "from module_name import *"
   ]
  },
  {
   "cell_type": "markdown",
   "metadata": {},
   "source": [
    "Un módulo de funciones\n",
    "---\n",
    "Se pueden crear módulos con funciones también, incluso si no se utilizan clases. Para ello debes guardar las funciones en un fichero, e importar el fichero como vimos en la anterior sección. Vamos a ver un ejemplo con el fichero *multiplying.py*:"
   ]
  },
  {
   "cell_type": "code",
   "execution_count": null,
   "metadata": {
    "collapsed": false,
    "jupyter": {
     "outputs_hidden": false
    }
   },
   "outputs": [],
   "source": [
    "# Save as multiplying.py\n",
    "def double(x):\n",
    "    return 2*x\n",
    "\n",
    "def triple(x):\n",
    "    return 3*x\n",
    "\n",
    "def quadruple(x):\n",
    "    return 4*x"
   ]
  },
  {
   "cell_type": "markdown",
   "metadata": {},
   "source": [
    "Ahora podriamos importar del fichero *multiplying.py*, y utilizar las funciones:"
   ]
  },
  {
   "cell_type": "code",
   "execution_count": null,
   "metadata": {
    "collapsed": false,
    "jupyter": {
     "outputs_hidden": false
    }
   },
   "outputs": [],
   "source": [
    "from multiplying import double, triple, quadruple\n",
    "\n",
    "print(double(5))\n",
    "print(triple(5))\n",
    "print(quadruple(5))"
   ]
  },
  {
   "cell_type": "markdown",
   "metadata": {},
   "source": [
    "Usando la sintaxis `import module_name`:"
   ]
  },
  {
   "cell_type": "code",
   "execution_count": null,
   "metadata": {
    "collapsed": false,
    "jupyter": {
     "outputs_hidden": false
    }
   },
   "outputs": [],
   "source": [
    "import multiplying\n",
    "\n",
    "print(multiplying.double(5))\n",
    "print(multiplying.triple(5))\n",
    "print(multiplying.quadruple(5))"
   ]
  },
  {
   "cell_type": "markdown",
   "metadata": {},
   "source": [
    "Usando alias:"
   ]
  },
  {
   "cell_type": "code",
   "execution_count": null,
   "metadata": {
    "collapsed": false,
    "jupyter": {
     "outputs_hidden": false
    }
   },
   "outputs": [],
   "source": [
    "import multiplying as m\n",
    "\n",
    "print(m.double(5))\n",
    "print(m.triple(5))\n",
    "print(m.quadruple(5))"
   ]
  }
 ],
 "metadata": {
  "kernelspec": {
   "display_name": "Python 3",
   "language": "python",
   "name": "python3"
  },
  "language_info": {
   "codemirror_mode": {
    "name": "ipython",
    "version": 3
   },
   "file_extension": ".py",
   "mimetype": "text/x-python",
   "name": "python",
   "nbconvert_exporter": "python",
   "pygments_lexer": "ipython3",
   "version": "3.6.9"
  }
 },
 "nbformat": 4,
 "nbformat_minor": 4
}
