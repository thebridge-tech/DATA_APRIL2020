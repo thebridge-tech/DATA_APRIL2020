{
 "cells": [
  {
   "cell_type": "markdown",
   "metadata": {},
   "source": [
    "# Ejercicios Python - The Bridge Bootcamp"
   ]
  },
  {
   "cell_type": "markdown",
   "metadata": {},
   "source": [
    "## Haz un programa que reproduzca el juego de las siete y media\n",
    "\n",
    "El juego de las siete y media es un juego tradicional de cartas. Puedes buscar sus reglas en Internet si no las conoces. \n",
    "\n",
    "La idea del ejercicio es que codifiques un  programa que sea capaz de manejar las baraja de cartas, que maneje la jugada entre el jugador y la banca, y que permita realizar apuestas y llevar un estado de las \"finanzas\" del jugador.\n",
    "\n",
    "Puedes abordar este problema con diferentes grados de complejidad.\n"
   ]
  },
  {
   "cell_type": "markdown",
   "metadata": {},
   "source": [
    "## Un poco de algoritmia y pensamiento lógico\n",
    "\n",
    "Generalmente utilizaremos funciones construidas en Python y sus librerias que nos permitirán realizar operaciones complejas de manera automática. Para trabajar el pensamiento algorítmico vamos a ralizar varias de estos problemas sin utilizar librerias, o funciones específicas.\n",
    "\n",
    "\n",
    "- Ordena los elementos de una lista utilizando bubble sort.\n",
    "\n",
    "- Ahora que ya sabemos ordenar una lista, escribe un programa que implemente una busqueda binaria.\n",
    "\n",
    "- Crea un programa que calcule el factorial de un número. Deberias calcularlo de dos maneras diferentes: utilizando recursividad y sin utilizarla.\n",
    "\n",
    "\n",
    "\n",
    "\n",
    "\n"
   ]
  },
  {
   "cell_type": "markdown",
   "metadata": {},
   "source": [
    "## Programa un juego\n",
    "\n",
    "Una buena manera de trabajar tratando de crear programas modulares, funciones, y pensando en como organizar el código es tratar de crear un juego. Hay varios niveles que puedes abordar, de más sencillo a más complejo:\n",
    "\n",
    "#### Un juego aventura \n",
    "\n",
    "Dependiendo te tu edad puede que hayas jugado (o no), a alguna de las míticas aventuras gráficas. Estos juegos tenian una serie de escenarios que podías explorar, y en cada uno de ellos habia una serie de opciones para ejecutar y explorar. Eventualmente conseguias un objetivo si pasabas por todos los escenarios. Te dejo aquí un ejemplo de una historia, pero puedes crear la tuya:\n",
    "\n",
    "\n",
    "*Aliens have invaded a space ship and our hero has to go through a maze of rooms defeating them so he can escape into an escape pod to the planet below. The game will be more like a Zork or Adventure type game with text outputs and funny ways to die. The game will involve an engine that runs a map full of rooms or scenes. Each room will print its own description when the player enters it and then tell the engine what room to run next out of the map.*\n",
    "\n",
    "- *Death This is when the player dies and should be something funny.*\n",
    "\n",
    "- *Central Corridor This is the starting point and has a Gothon already standing there that the players have to defeat with a joke before continuing.*\n",
    "\n",
    "- *Laser Weapon Armory This is where the hero gets a neutron bomb to blow up the ship before getting to the escape pod. It has a keypad the hero has to guess the number for.*\n",
    "\n",
    "- *The Bridge This is another battle scene with a Gothon where the hero places the bomb.*\n",
    "\n",
    "- *Escape Pod This is where the hero escapes but only after guessing the right escape pod.*\n",
    "\n",
    "---\n",
    "#### Un juego complejo - Una batalla naval\n",
    "\n",
    "Realiza el juego \"batalla naval\" (https://es.wikipedia.org/wiki/Batalla_naval_(juego)).\n",
    "\n",
    "Con unas dimensiones 10x10, el juego debe recoger en forma de matriz el \"estado\" de cada turno. El estado se representará con la matriz de información correspondiente (se mostrará por pantalla). Las reglas son las siguientes:\n",
    "\n",
    "    Hay 4 barcos 2x1.\n",
    "    Hay 3 barcos 3x1.\n",
    "    Hay 2 barcos 4x1.\n",
    "    Hay 1 barco 5x1.\n",
    "    En cada turno, el jugador correspondiente debe elegir una casilla de la matriz (10x10) y ambos jugadores marcarán la casilla en la matriz.\n",
    "    Si la casilla que se ha elegido es agua, será marcada como un una \"o\" y si la casilla que ha marcado es uno de los barcos, la casilla será marcada con una \"x\".\n",
    "    Los barcos han de ser mostrados con un \"*\" en la matriz.\n",
    "    Los espacios con agua serán mostrados como \"|_|\".\n",
    "\n",
    "Antes de que comience la partida, cada jugador deberá crear su estado inicial. El estado inicial es una configuración de la matriz con todos los barcos colocados. Para ello, el programa debería preguntar, uno a uno, dónde se quiere colocar cada barco. El estilo de pregunta, ha de ser:\n",
    "\n",
    "    Inserte la posición del barco 1 (2x1). El usuario ha de escribir si se quiere insertar en la 4a fila, en horizontal y ocupando las últimas dos columnas: \"4h9:10\".\n",
    "    Inserte la posición del barco 2 (2x1). El usuario ha de escribir si se quiere insertar en la 8a fila, en horizontal y ocupando las dos primeras columnas: \"8h1:2\".\n",
    "    Inserte la posición del barco 1 (5x1). Si se quiere colocar en vertical empezando por la fila 1 a la 5: \"1:5v\".\n",
    "\n",
    "Para saber quien empieza, se debe poner de acuerdo quien ejecuta una función que ofrecerá dos valores (random) del 1 al 6 (debe ser entero). El primer valor que muestre por pantalla la función es el del jugador que tiene el ordenador que ha ejecutado la función. El segundo valor es el del contrincante. Quien saque más, empieza.\n",
    "\n",
    "Además, el programa guardará el nombre de los jugadores y el histórico (todos los estados) de la partida. Para ello se utilizará el formato \"json\".\n",
    "\n",
    "Cuando un jugador haya creado su \"estado inicial\", este estado deberá ser guardado en formato \"json\". Antes de que se inicie la partida, el otro jugador deberá cargar tu estado inicial y tú el suyo. El estado inicial del enemigo es el que usará tu programa para comprobar si las coordenadas que has utilizado han acertado en el blanco o no.\n",
    "\n",
    "El formato de preguntas por turno es:\n",
    "\n",
    "    \"Inserte coordenadas a atacar:\". La respuesta válida será \"0x8\" (fila 0, columna 8).\n",
    "\n",
    "Una vez insertada las coordenadas, deberá aparecer la matriz de estado de tu enemigo con la nueva coordenada marcada sin la flota excepto si el torpedo ha dado en el blanco. Además, aparecerá la matriz de tu estado al lado.\n",
    "\n",
    "A modo de resumen:\n",
    "\n",
    "    Se eligen los nombres.\n",
    "\n",
    "    Se pregunta sobre las posiciones de tu flota. Una vez que se haya definido, el sistema debe guardar en json el estado de tu flota. OPCIONAL: se puede cargar una a partir de fichero \"json\".\n",
    "\n",
    "    Se carga el estado inicial de tu enemigo a partir de un fichero \"json\" que te ha dado previamente. El fichero estará en una carpeta llamada \"Partidas_Batalla_Naval\". Para cargar el fichero se debe introducir la ruta o nombre del fichero.\n",
    "\n",
    "    Cuando ambos estéis en el mismo punto y se sepa quien es el primero, se debe escribir \"Primero\" o \"Segundo\". Si eres primero, el sistema empezará preguntándote las coordenadas. Si eres segundo, el sistema preguntará por las coordenadas del rival.\n",
    "\n",
    "    Se debe mostrar por pantalla dos matrices: una matriz 10x10 que representa los puntos que has ido marcando (sin ver la flota del enemigo excepto si han sido dañados) y otra a la derecha que muestre tu flota con los puntos que han sido atacados por parte del contrincante.\n",
    "\n",
    "    Cuando toda la flota de uno de los dos jugadores haya sido exterminada, se mostrará el ganador de la partida. Ahí te podrás reír en su cara (o no).\n",
    "\n",
    "\n",
    "---\n",
    "\n",
    "#### Un juego complejo - Space invaders\n",
    "\n",
    "Posiblemente has conocido el programa space invaders. Trata de crear tu propia versión. Para crear un juego de este tipo con controles y un interfaz gráfico puedes utilizar la libreria **pygame**"
   ]
  },
  {
   "cell_type": "code",
   "execution_count": null,
   "metadata": {},
   "outputs": [],
   "source": []
  },
  {
   "cell_type": "code",
   "execution_count": null,
   "metadata": {},
   "outputs": [],
   "source": []
  }
 ],
 "metadata": {
  "kernelspec": {
   "display_name": "Python 3",
   "language": "python",
   "name": "python3"
  },
  "language_info": {
   "codemirror_mode": {
    "name": "ipython",
    "version": 3
   },
   "file_extension": ".py",
   "mimetype": "text/x-python",
   "name": "python",
   "nbconvert_exporter": "python",
   "pygments_lexer": "ipython3",
   "version": "3.6.9"
  }
 },
 "nbformat": 4,
 "nbformat_minor": 4
}
