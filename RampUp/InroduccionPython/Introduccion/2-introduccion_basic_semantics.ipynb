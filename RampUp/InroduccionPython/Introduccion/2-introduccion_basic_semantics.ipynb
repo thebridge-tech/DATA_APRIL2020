{
 "cells": [
  {
   "cell_type": "markdown",
   "metadata": {},
   "source": [
    "# Semántica Básica en Python: Variables y Objetos"
   ]
  },
  {
   "cell_type": "markdown",
   "metadata": {},
   "source": [
    "Esta sección empezará a cubrir la semántica básica del lenguaje Python .\n",
    "Frente a la *sintaxis* que vimos en la sección anterior, la *semántica* del lenguaje si que implica el significado de las expresiones .\n",
    "Del mismo modo que en el caso de la sintaxis, ahora veremos unos algunos conceptos esenciales de la semántica para dar una base de referencia que ayude a abordar las siguientes secciones.\n",
    "\n",
    "En esta veremos la semántica de las *variables* y *objetos*, que son las manera en la que almacenamos, referenciamos y operamos con datos en Python."
   ]
  },
  {
   "cell_type": "markdown",
   "metadata": {},
   "source": [
    "## Las variables en Python son Punteros\n",
    "\n",
    "Asignar variables en Python es tan sencillo como seleccionar un nombre para la variable, y utilizar el signo de (``=``) que actúa como operador de asignación en Python:\n",
    "\n",
    "```python\n",
    "# assign 4 to the variable x\n",
    "x = 4\n",
    "```\n",
    "\n",
    "En otros lenguajes se define la variable con el tipo de variable que vamos a utilizar, por lo que podríamos visualizar laas variables como contenedores. Sin embargo en Python, las variables pueden verse como punteros más que como contenedores..\n",
    "\n",
    "Por tanto cuando en Python escribimos\n",
    "\n",
    "```python\n",
    "x = 4\n",
    "```\n",
    "\n",
    "estamos definiendo un *puntero* llamado ``x`` que apunta a un lugar en la memoria que contiene el valor ``4``.\n",
    "Esto se debe a que Python es un lenguaje *dinámicamente tipado* y las variables en Python en realidad apuntan a objetos. No hay necesidad de \"declarar\" la variable o incluso de que la variable apunte a información del mismo tiporequire the variable to always point to information of the same type!\n",
    "\n",
    "Así que en Python, puedes hacer cosas como estas:"
   ]
  },
  {
   "cell_type": "code",
   "execution_count": 21,
   "metadata": {},
   "outputs": [
    {
     "name": "stdout",
     "output_type": "stream",
     "text": [
      "<class 'int'>\n",
      "<class 'str'>\n",
      "<class 'list'>\n"
     ]
    }
   ],
   "source": [
    "x = 1            # x es un entero\n",
    "print(type(x))   # con esta expresión vemos el tipo de la variable\n",
    "x = 'hello'      # ahora x es un string o cadena de caracteres\n",
    "print(type(x))\n",
    "x = [1, 2, 3]    # ahora x es una lista\n",
    "print(type(x))"
   ]
  },
  {
   "cell_type": "markdown",
   "metadata": {},
   "source": [
    "Esto es bastante diferente a los lenguajes tipados o fuertemente tipados como C, en los que se declara el tipo de la variable al crear una,\n",
    "\n",
    "```C\n",
    "int x = 4;\n",
    "```\n",
    "\n",
    "Pero es una de la cosas que hace que Python sea un lenguaje tan rápido de escribir, y fácil de leer.\n",
    "\n",
    "Pero también hay una consecuencia de esta aproximación a las \"variables como punteros\" y es algo de lo que tenemos que ser concientes.\n",
    "Si tienes dos variables que apuntan al mismo objeto *mutable*, si cambias uno de los objetos, también cambiaréis el otro objeto!\n",
    "Por ejemplo si creamos una lísta y la modificamos, vamos a ver que ocurre:"
   ]
  },
  {
   "cell_type": "code",
   "execution_count": 5,
   "metadata": {},
   "outputs": [],
   "source": [
    "x = [1, 2, 3]\n",
    "y = x"
   ]
  },
  {
   "cell_type": "markdown",
   "metadata": {},
   "source": [
    "Hemos creado dps variables  ``x`` e ``y`` que apuntan ambas al mismo objeto.\n",
    "Debido a esto, si modificamos la lista usando uno de sus nombres, veremos que la \"otra\" lista también se ha modificado:"
   ]
  },
  {
   "cell_type": "code",
   "execution_count": 6,
   "metadata": {},
   "outputs": [
    {
     "name": "stdout",
     "output_type": "stream",
     "text": [
      "[1, 2, 3]\n"
     ]
    }
   ],
   "source": [
    "print(y)"
   ]
  },
  {
   "cell_type": "code",
   "execution_count": 7,
   "metadata": {},
   "outputs": [
    {
     "name": "stdout",
     "output_type": "stream",
     "text": [
      "[1, 2, 3, 4]\n"
     ]
    }
   ],
   "source": [
    "x.append(4)\n",
    "print(y)"
   ]
  },
  {
   "cell_type": "code",
   "execution_count": 8,
   "metadata": {},
   "outputs": [
    {
     "name": "stdout",
     "output_type": "stream",
     "text": [
      "[1, 2, 3, 4]\n"
     ]
    }
   ],
   "source": [
    "x = [1,2,3,4,5]\n",
    "print(y) # Vamos a ver si esto afecta a la lista y"
   ]
  },
  {
   "cell_type": "markdown",
   "metadata": {},
   "source": [
    "Este comportamiento puede parecer un poco confuso si piensas en las variables como contenedores que contienen datos, pero si pensamos en las variables como punteros a objetos, el comportamiento tiene sentido.\n",
    "\n",
    "Lo que ocurre cuando usamos el operador de asignación \"``=``\" para asignar un nuevo valor a ``x``, esto no afectará al valor de ``y`` dado que la asignación implica un cambio del objeto al que apunta la variable. Es decir en el último caso realmente estamos asignando, o haciendo que x apunte a un nuevo objeto:"
   ]
  },
  {
   "cell_type": "code",
   "execution_count": 25,
   "metadata": {},
   "outputs": [
    {
     "name": "stdout",
     "output_type": "stream",
     "text": [
      "[1, 2, 3, 4]\n"
     ]
    }
   ],
   "source": [
    "x = 'something else'\n",
    "print(y)  # y no cambia"
   ]
  },
  {
   "cell_type": "markdown",
   "metadata": {},
   "source": [
    "\n",
    "Puedes preguntarte si esta aproximación de variables como punteros es una buena idea por ejemplo para las operaciones aritméticas, pero eso se solventa gracias a que los números, los strings y otros *tipos simples* en Python son inmutables: no puedes cambiar su valor, sólo puedes cambiar los objetos a los que las variables apuntan a través de una asignación:"
   ]
  },
  {
   "cell_type": "code",
   "execution_count": 26,
   "metadata": {},
   "outputs": [
    {
     "name": "stdout",
     "output_type": "stream",
     "text": [
      "x = 15\n",
      "y = 10\n"
     ]
    }
   ],
   "source": [
    "x = 10\n",
    "y = x\n",
    "x += 5  # sumar 5 a la x, i asignárselo a x\n",
    "print(\"x =\", x)\n",
    "print(\"y =\", y)"
   ]
  },
  {
   "cell_type": "markdown",
   "metadata": {},
   "source": [
    "Cuando hacemos ``x += 5``, no estamos modificando el valor del objeto ``10`` al que apunta ``x``; en realidad estamos cambiando la variable ``x`` de manera que apunte a un nuebo objeto entero con valor ``15``.\n",
    "Por esta razón el valor ``y`` no se ve afectado por la operación."
   ]
  },
  {
   "cell_type": "markdown",
   "metadata": {},
   "source": [
    "## Todo es un Objeto en Python\n",
    "\n",
    "Python es un lenguaje de programación orientado a objetos, y en Python todo es un objeto (una variable, una función..). \n",
    "\n",
    "Antes vimos que las variables eran punteros, y que los nombres de las variables no tenian asociada información sobre el tipo.\n",
    "Esto a veces nos lleva a decir que Python es un lenguaje no tipado, pero no es así dado que los objetos a las que apuntan las variables si que tienen tipos:"
   ]
  },
  {
   "cell_type": "code",
   "execution_count": 27,
   "metadata": {},
   "outputs": [
    {
     "data": {
      "text/plain": [
       "int"
      ]
     },
     "execution_count": 27,
     "metadata": {},
     "output_type": "execute_result"
    }
   ],
   "source": [
    "x = 4\n",
    "type(x)"
   ]
  },
  {
   "cell_type": "code",
   "execution_count": 28,
   "metadata": {},
   "outputs": [
    {
     "data": {
      "text/plain": [
       "str"
      ]
     },
     "execution_count": 28,
     "metadata": {},
     "output_type": "execute_result"
    }
   ],
   "source": [
    "x = 'hello'\n",
    "type(x)"
   ]
  },
  {
   "cell_type": "code",
   "execution_count": 29,
   "metadata": {},
   "outputs": [
    {
     "data": {
      "text/plain": [
       "float"
      ]
     },
     "execution_count": 29,
     "metadata": {},
     "output_type": "execute_result"
    }
   ],
   "source": [
    "x = 3.14159\n",
    "type(x)"
   ]
  },
  {
   "cell_type": "markdown",
   "metadata": {},
   "source": [
    "Python por tanto tiene tipos; pero esos tipos no están asociados al nombre de la variable, sino a los *propios objetos* que son apuntados por las variables.\n",
    "\n",
    "Un *objeto* es una entidad que contiene datos, así como metadata asociado y funcionalidad. En Python todo es un objeto, lo que quiere decir que todas las entidades tienen metadata (lo que llamamos *atributos*) y funcionalidad asociada (lo que llamamos *métodos*).\n",
    "\n",
    "Estos atributos y métodos pueden ser accedidos usando la sintaxis con el punto.\n",
    "\n",
    "Por ejemplo, antes vimos que en la lista teniamos un método  ``append``, que añadía un elemento a una lista, y al que accediamos utilizando la notación nombre de la lista \"punto\" y el nombre del método (\"``.``\"). Veamos la sintaxis:"
   ]
  },
  {
   "cell_type": "code",
   "execution_count": 30,
   "metadata": {},
   "outputs": [
    {
     "name": "stdout",
     "output_type": "stream",
     "text": [
      "[1, 2, 3, 100]\n"
     ]
    }
   ],
   "source": [
    "L = [1, 2, 3]\n",
    "L.append(100)\n",
    "print(L)"
   ]
  },
  {
   "cell_type": "markdown",
   "metadata": {},
   "source": [
    "Puede parecer normal que los objetos \"más complejos\" como las listas tengan atributos y métodos, pero también los tipos más \"sencillos\" tienen también atributos y métodos.\n",
    "Por ejemplo, los tipos numéricos tienen los atributos ``real`` e ``imag`` que nos devuelven la parte real e imaginaria de los valores:"
   ]
  },
  {
   "cell_type": "code",
   "execution_count": 31,
   "metadata": {},
   "outputs": [
    {
     "name": "stdout",
     "output_type": "stream",
     "text": [
      "4.5 + 0.0 i\n"
     ]
    }
   ],
   "source": [
    "x = 4.5\n",
    "print(x.real, \"+\", x.imag, 'i')"
   ]
  },
  {
   "cell_type": "markdown",
   "metadata": {},
   "source": [
    "Los métodos son similares en sintaxis a los atributos, pero en realidad son funciones a las que puedes llamar usando paréntesis ().\n",
    "Por ejemplo, los nnúmeros de tipo float tienen un método ``is_integer`` que comprueba si el valor es un entero:"
   ]
  },
  {
   "cell_type": "code",
   "execution_count": 32,
   "metadata": {},
   "outputs": [
    {
     "data": {
      "text/plain": [
       "False"
      ]
     },
     "execution_count": 32,
     "metadata": {},
     "output_type": "execute_result"
    }
   ],
   "source": [
    "x = 4.5\n",
    "x.is_integer()"
   ]
  },
  {
   "cell_type": "code",
   "execution_count": 33,
   "metadata": {},
   "outputs": [
    {
     "data": {
      "text/plain": [
       "True"
      ]
     },
     "execution_count": 33,
     "metadata": {},
     "output_type": "execute_result"
    }
   ],
   "source": [
    "x = 4.0\n",
    "x.is_integer()"
   ]
  },
  {
   "cell_type": "markdown",
   "metadata": {},
   "source": [
    "Cuando decimos que todo en Python es un objeto, realmente queremos decir que todo es un objeto, incluso los propios atributos y métodos tienen su propia informacon de ``type``:"
   ]
  },
  {
   "cell_type": "code",
   "execution_count": 34,
   "metadata": {},
   "outputs": [
    {
     "data": {
      "text/plain": [
       "builtin_function_or_method"
      ]
     },
     "execution_count": 34,
     "metadata": {},
     "output_type": "execute_result"
    }
   ],
   "source": [
    "type(x.is_integer)"
   ]
  },
  {
   "cell_type": "markdown",
   "metadata": {},
   "source": [
    "Vamos a ver que esta elección de diseño permite construcciones muy interesantes en Python.\n",
    "\n",
    "## ``*Programación funcional vs programación orientada a objetos*``\n",
    "\n",
    "*Python es un lenguaje construido y basado en el paradigma de la orientación a objetos. Sin embargo Python permite utilizar el paradigma de la programación funcional, y de hecho nosotros utilizaremos en muchos casos ese tipo de paradigma, basado en la ejecución de funciones y métodos sobre datos.*"
   ]
  },
  {
   "cell_type": "markdown",
   "metadata": {},
   "source": [
    "# Semántica Básica en Python: Operadores"
   ]
  },
  {
   "cell_type": "markdown",
   "metadata": {},
   "source": [
    "En la sección anterior comenzamos a familiarizarnos con las variables y objetos en Python. Ahora vamos a ver la semántica de varios de los *operadores* que nos proporciona el lenguaje.\n",
    "Al final de esta sección tendrás las herramientas básicas para realizar operaciones y comparaciones de datos en Python."
   ]
  },
  {
   "cell_type": "markdown",
   "metadata": {},
   "source": [
    "## Operaciones Aritméticas\n",
    "Python implementa siete operadores aritméticos binarios básicos, dos de los cuales pueden utilizarse también como operadores unarios.\n",
    "En la tabla tenéis un resumen de los operadores:\n",
    "\n",
    "| Operator     | Name              | Description                                            |\n",
    "|--------------|-------------------|--------------------------------------------------------|\n",
    "| ``a + b``    | Addition          | Sum of ``a`` and ``b``                                 |\n",
    "| ``a - b``    | Subtraction       | Difference of ``a`` and ``b``                          |\n",
    "| ``a * b``    | Multiplication    | Product of ``a`` and ``b``                             |\n",
    "| ``a / b``    | True division     | Quotient of ``a`` and ``b``                            |\n",
    "| ``a // b``   | Floor division    | Quotient of ``a`` and ``b``, removing fractional parts |\n",
    "| ``a % b``    | Modulus           | Integer remainder after division of ``a`` by ``b``     |\n",
    "| ``a ** b``   | Exponentiation    | ``a`` raised to the power of ``b``                     |\n",
    "| ``-a``       | Negation          | The negative of ``a``                                  |\n",
    "| ``+a``       | Unary plus        | ``a`` unchanged (rarely used)                          |\n",
    "\n",
    "Los operadores se pueden combinar de manera intuitiva, y agrupar utilizando paréntesis.\n",
    "Por ejemplo:"
   ]
  },
  {
   "cell_type": "code",
   "execution_count": 35,
   "metadata": {},
   "outputs": [
    {
     "data": {
      "text/plain": [
       "42.0"
      ]
     },
     "execution_count": 35,
     "metadata": {},
     "output_type": "execute_result"
    }
   ],
   "source": [
    "# suma, resta , multiplicación\n",
    "(4 + 8) * (6.5 - 3)"
   ]
  },
  {
   "cell_type": "markdown",
   "metadata": {},
   "source": [
    "La Floor division es una división truncando las los decimales:"
   ]
  },
  {
   "cell_type": "code",
   "execution_count": 36,
   "metadata": {},
   "outputs": [
    {
     "name": "stdout",
     "output_type": "stream",
     "text": [
      "5.5\n"
     ]
    }
   ],
   "source": [
    "# True division\n",
    "print(11 / 2)"
   ]
  },
  {
   "cell_type": "code",
   "execution_count": 15,
   "metadata": {},
   "outputs": [
    {
     "name": "stdout",
     "output_type": "stream",
     "text": [
      "5\n"
     ]
    }
   ],
   "source": [
    "# Floor division\n",
    "print(11 // 2)"
   ]
  },
  {
   "cell_type": "markdown",
   "metadata": {},
   "source": [
    "Un octavo operador ha sido incluido a partir de Python 3.5: el operador ``a @ b``, que es utilizado para realizar un *producto matricial* de ``a`` y ``b``, que será muy utilizado en álgebra, y que será muy útil en Data Science."
   ]
  },
  {
   "cell_type": "markdown",
   "metadata": {},
   "source": [
    "## Operaciones Bitwise \n",
    "Además de las operaciones standard, Python incluye operadores que realizan operaciones lógicas a nivel de bit en enteros.\n",
    "Se utilizan menos que las operaciones aritméticas, pero es interesante conocer su existencia y en algunos casos vermos que se usan para comparar valores:\n",
    "\n",
    "\n",
    "| Operator     | Name            | Description                                 |\n",
    "|--------------|-----------------|---------------------------------------------|\n",
    "| ``a & b``    | Bitwise AND     | Bits defined in both ``a`` and ``b``        |\n",
    "| <code>a &#124; b</code>| Bitwise OR      | Bits defined in ``a`` or ``b`` or both      |\n",
    "| ``a ^ b``    | Bitwise XOR     | Bits defined in ``a`` or ``b`` but not both |\n",
    "| ``a << b``   | Bit shift left  | Shift bits of ``a`` left by ``b`` units     |\n",
    "| ``a >> b``   | Bit shift right | Shift bits of ``a`` right by ``b`` units    |\n",
    "| ``~a``       | Bitwise NOT     | Bitwise negation of ``a``                          |\n",
    "\n",
    "These bitwise operators only make sense in terms of the binary representation of numbers, which you can see using the built-in ``bin`` function:"
   ]
  },
  {
   "cell_type": "markdown",
   "metadata": {},
   "source": [
    "## Operaciones de asignación\n",
    "Hemos visto ya que las variables se pueden asignar con el perador \"``=``\", que es el operador de asignación, de manera que los valores se almacenan para utilizarlos a través de esas variables. Por ejemplo:"
   ]
  },
  {
   "cell_type": "code",
   "execution_count": 9,
   "metadata": {},
   "outputs": [
    {
     "name": "stdout",
     "output_type": "stream",
     "text": [
      "24\n"
     ]
    }
   ],
   "source": [
    "a = 24\n",
    "print(a)"
   ]
  },
  {
   "cell_type": "markdown",
   "metadata": {},
   "source": [
    "Podemos utilizar los operadores que hemos visto sobre esas variables. Por ejemplo para sumar 2 a ``a`` escribiriamos:"
   ]
  },
  {
   "cell_type": "code",
   "execution_count": 43,
   "metadata": {},
   "outputs": [
    {
     "data": {
      "text/plain": [
       "26"
      ]
     },
     "execution_count": 43,
     "metadata": {},
     "output_type": "execute_result"
    }
   ],
   "source": [
    "a + 2"
   ]
  },
  {
   "cell_type": "markdown",
   "metadata": {},
   "source": [
    "Si quisieramos actualizar la variable a con este nuevo valor calculado podriamos utilizar la asignación y escribir ``a = a + 2``.\n",
    "Dado que este tipo de operación es muy común como podremos ver, Python ha incorporado ese tipo de operaciones en su sintaxis para todas las operaciones aritméticas:"
   ]
  },
  {
   "cell_type": "code",
   "execution_count": 44,
   "metadata": {},
   "outputs": [
    {
     "name": "stdout",
     "output_type": "stream",
     "text": [
      "26\n"
     ]
    }
   ],
   "source": [
    "a += 2  # equivalent to a = a + 2\n",
    "print(a)"
   ]
  },
  {
   "cell_type": "markdown",
   "metadata": {},
   "source": [
    "Existe un operador de asignación \"aumentado\" para todos los operadores binarios que hemos visto anteriormente:\n",
    "\n",
    "|||||\n",
    "|-|-|\n",
    "|``a += b``| ``a -= b``|``a *= b``| ``a /= b``|\n",
    "|``a //= b``| ``a %= b``|``a **= b``|``a &= b``|\n",
    "|<code>a &#124;= b</code>| ``a ^= b``|``a <<= b``| ``a >>= b``|\n",
    "\n",
    "\n",
    "Para objetos mutables como listas, arrays, o DataFrames, estos operadores de asignación aumentados se comportan de manera ligeramente diferente, dado que modifican el contenido del objeto original en lugar de crear un nuevo objeto como vimos en el caso de los objetos no mutables."
   ]
  },
  {
   "cell_type": "markdown",
   "metadata": {},
   "source": [
    "## Operadores de comparación\n",
    "\n",
    "Otro tipo de operación que puede ser muy interesante en Python es la comparación de valores.\n",
    "Para ello Python implementa operadores de comparación que devuelven los valores **Booleanos** ``True`` y ``False``.\n",
    "The comparison operations are listed in the following table:\n",
    "\n",
    "| Operation         | Description                        |\n",
    "|---------------    |------------------------------------|\n",
    "| ``a == b``        |  ``a`` equal to ``b``              |\n",
    "| ``a < b``         |  ``a`` less than ``b``             |\n",
    "| ``a <= b``        |  ``a`` less than or equal to ``b`` |\n",
    "| ``a != b``        |  ``a`` not equal to ``b``          |\n",
    "| ``a > b``         |  ``a`` greater than ``b``          |\n",
    "| ``a >= b``        |  ``a`` greater than or equal to ``b`` |\n",
    "\n",
    "\n",
    "Con estos operadores combinados con los aritméticos y los operadores a nivel de bit tenemos las herramientas para expresar o programar un rango prácticamente ilin¡mitado de test para valores numéricos.\n",
    "Por ejemplo, para comprobar si un numero es impar podemos ver si el *resto* resultante del número dividido por dos es 1:"
   ]
  },
  {
   "cell_type": "code",
   "execution_count": 45,
   "metadata": {},
   "outputs": [
    {
     "data": {
      "text/plain": [
       "True"
      ]
     },
     "execution_count": 45,
     "metadata": {},
     "output_type": "execute_result"
    }
   ],
   "source": [
    "# 25 is odd\n",
    "25 % 2 == 1"
   ]
  },
  {
   "cell_type": "code",
   "execution_count": 46,
   "metadata": {},
   "outputs": [
    {
     "data": {
      "text/plain": [
       "False"
      ]
     },
     "execution_count": 46,
     "metadata": {},
     "output_type": "execute_result"
    }
   ],
   "source": [
    "# 66 is odd\n",
    "66 % 2 == 1"
   ]
  },
  {
   "cell_type": "markdown",
   "metadata": {},
   "source": [
    "Además se pueden combinar varias comapraciones para expresar relaciones más complejas:"
   ]
  },
  {
   "cell_type": "code",
   "execution_count": 47,
   "metadata": {},
   "outputs": [
    {
     "data": {
      "text/plain": [
       "True"
      ]
     },
     "execution_count": 47,
     "metadata": {},
     "output_type": "execute_result"
    }
   ],
   "source": [
    "# check if a is between 15 and 30\n",
    "a = 25\n",
    "15 < a < 30"
   ]
  },
  {
   "cell_type": "markdown",
   "metadata": {},
   "source": [
    "Y para empezar a ver algunas de esas expresiones que nos resultan extrañas, vamos a ver la siguiente comparación:"
   ]
  },
  {
   "cell_type": "code",
   "execution_count": 48,
   "metadata": {},
   "outputs": [
    {
     "data": {
      "text/plain": [
       "True"
      ]
     },
     "execution_count": 48,
     "metadata": {},
     "output_type": "execute_result"
    }
   ],
   "source": [
    "-1 == ~0"
   ]
  },
  {
   "cell_type": "markdown",
   "metadata": {},
   "source": [
    "Recuerda que ``~`` es el  operador bit-flip operator, y cuando cambias todos los bits de 0 obtienes -1. Si quieres saber más chequea el esquema de codificación de enteros *two's complement* ."
   ]
  },
  {
   "cell_type": "markdown",
   "metadata": {},
   "source": [
    "## Operaciones Booleanas\n",
    "Cuando utilizamos valores Booleanos, Python proporciona operadores que nos permiten combinar esos valores con operaciones lógicas estandar como \"and\", \"or\", y \"not\".\n",
    "Como era predecible, estos operadores se representan con las palabras ``and``, ``or``, y ``not``:"
   ]
  },
  {
   "cell_type": "code",
   "execution_count": 1,
   "metadata": {},
   "outputs": [
    {
     "data": {
      "text/plain": [
       "True"
      ]
     },
     "execution_count": 1,
     "metadata": {},
     "output_type": "execute_result"
    }
   ],
   "source": [
    "x = 4\n",
    "(x < 6) and (x > 2)"
   ]
  },
  {
   "cell_type": "code",
   "execution_count": 2,
   "metadata": {},
   "outputs": [
    {
     "data": {
      "text/plain": [
       "True"
      ]
     },
     "execution_count": 2,
     "metadata": {},
     "output_type": "execute_result"
    }
   ],
   "source": [
    "(x > 10) or (x % 2 == 0)"
   ]
  },
  {
   "cell_type": "code",
   "execution_count": 3,
   "metadata": {},
   "outputs": [
    {
     "data": {
      "text/plain": [
       "False"
      ]
     },
     "execution_count": 3,
     "metadata": {},
     "output_type": "execute_result"
    }
   ],
   "source": [
    "not (x < 6)"
   ]
  },
  {
   "cell_type": "markdown",
   "metadata": {},
   "source": [
    "Si estás familiarizado con el Algebra Booleano puedes haver echado en falta el operador XOR. Este operador se puede construir de diferentes manera combinando los otros operadores. Si no, puedes usar XOR utilizando lo siguiente:"
   ]
  },
  {
   "cell_type": "code",
   "execution_count": 4,
   "metadata": {},
   "outputs": [
    {
     "data": {
      "text/plain": [
       "False"
      ]
     },
     "execution_count": 4,
     "metadata": {},
     "output_type": "execute_result"
    }
   ],
   "source": [
    "# (x > 1) xor (x < 10)\n",
    "(x > 1) != (x < 10)"
   ]
  },
  {
   "cell_type": "markdown",
   "metadata": {},
   "source": [
    "Esta operaciones Booleanas van a ser extremadamente útiles coando veamos las expresiones de *control de flujo de ejecución* como los *loops* y los *conditionals*.\n",
    "\n",
    "A veces puede resultar un poco confuso cuando utilizar operadores Booleanos (``and``, ``or``, ``not``), y cuando utilizar bitwise operations (``&``, ``|``, ``~``).\n",
    "Los operadores Booleanos deben ser utilizados cuando queramos computar el valor Booleano de una expresión completa, mientras que las operaciones Bitwise  deben ser utilizadas cuando queramos operar sobre los bits o componentes del objeto en cuestión."
   ]
  },
  {
   "cell_type": "markdown",
   "metadata": {},
   "source": [
    "## Operadores de Identidad y Pertenencia\n",
    "\n",
    "Como ``and``, ``or``, y ``not``, Python también incluye operadores para comprobar la Identidad y Pertenencia, que se escriben en lenguaje \"natural\".\n",
    "Son los siguientes:\n",
    "\n",
    "| Operator      | Description                                       |\n",
    "|---------------|---------------------------------------------------|\n",
    "| ``a is b``    | True if ``a`` and ``b`` are identical objects     |\n",
    "| ``a is not b``| True if ``a`` and ``b`` are not identical objects |\n",
    "| ``a in b``    | True if ``a`` is a member of ``b``                |\n",
    "| ``a not in b``| True if ``a`` is not a member of ``b``            |"
   ]
  },
  {
   "cell_type": "markdown",
   "metadata": {},
   "source": [
    "### Operadores de Identidad: \"``is``\" y \"``is not``\"\n",
    "\n",
    "Los operadores de identidad,  \"``is``\" y \"``is not``\" comprueban la *identidad del objeto*.\n",
    "La comprobación de la identidad del objeto es diferente a la comprobación de la igualdad como podemos ver en el siguiente ejemplo:"
   ]
  },
  {
   "cell_type": "code",
   "execution_count": 53,
   "metadata": {},
   "outputs": [],
   "source": [
    "a = [1, 2, 3]\n",
    "b = [1, 2, 3]"
   ]
  },
  {
   "cell_type": "code",
   "execution_count": 54,
   "metadata": {},
   "outputs": [
    {
     "data": {
      "text/plain": [
       "True"
      ]
     },
     "execution_count": 54,
     "metadata": {},
     "output_type": "execute_result"
    }
   ],
   "source": [
    "a == b"
   ]
  },
  {
   "cell_type": "code",
   "execution_count": 55,
   "metadata": {},
   "outputs": [
    {
     "data": {
      "text/plain": [
       "False"
      ]
     },
     "execution_count": 55,
     "metadata": {},
     "output_type": "execute_result"
    }
   ],
   "source": [
    "a is b"
   ]
  },
  {
   "cell_type": "code",
   "execution_count": 56,
   "metadata": {},
   "outputs": [
    {
     "data": {
      "text/plain": [
       "True"
      ]
     },
     "execution_count": 56,
     "metadata": {},
     "output_type": "execute_result"
    }
   ],
   "source": [
    "a is not b"
   ]
  },
  {
   "cell_type": "markdown",
   "metadata": {},
   "source": [
    "Que necesitamos para que dos objetos sean idénticos? Lo vemos a continuación:"
   ]
  },
  {
   "cell_type": "code",
   "execution_count": 57,
   "metadata": {},
   "outputs": [
    {
     "data": {
      "text/plain": [
       "True"
      ]
     },
     "execution_count": 57,
     "metadata": {},
     "output_type": "execute_result"
    }
   ],
   "source": [
    "a = [1, 2, 3]\n",
    "b = a\n",
    "a is b"
   ]
  },
  {
   "cell_type": "markdown",
   "metadata": {},
   "source": [
    "En el primer caso ``a`` and ``b`` apuntan a *objetos diferentes*, mientras que en el segundo caso ambos apuntan al *mismo objeto*.\n",
    "Como vimos en Python las variable son punteros a objetos, así que tened cuidado porque a vecer podemos utilizar \"``is``\" cuando en realidad lo que realmente queremos usar es un ``==``."
   ]
  },
  {
   "cell_type": "markdown",
   "metadata": {},
   "source": [
    "### Operadores de pertenencia\n",
    "\n",
    "Los operadores de pertenencia comprueban si un valor u objeto se encuentra dentro de un objeto compuesto como una lista por ejemplo. Vamos a verlo:"
   ]
  },
  {
   "cell_type": "code",
   "execution_count": 58,
   "metadata": {},
   "outputs": [
    {
     "data": {
      "text/plain": [
       "True"
      ]
     },
     "execution_count": 58,
     "metadata": {},
     "output_type": "execute_result"
    }
   ],
   "source": [
    "1 in [1, 2, 3]"
   ]
  },
  {
   "cell_type": "code",
   "execution_count": 59,
   "metadata": {},
   "outputs": [
    {
     "data": {
      "text/plain": [
       "False"
      ]
     },
     "execution_count": 59,
     "metadata": {},
     "output_type": "execute_result"
    }
   ],
   "source": [
    "2 not in [1, 2, 3]"
   ]
  },
  {
   "cell_type": "markdown",
   "metadata": {},
   "source": [
    "Este tipo de operadores están construidos por defecto en Python, mientras que en otros lenguajes deberiamos construir un loop y hacer una comparación \"manual\". Además como podeis ver se trata de operadores que se entienden de manera muy sencilla. Este tipo de cuestiones \"de serie\" hacen que la sencillez de python sea mayor."
   ]
  }
 ],
 "metadata": {
  "kernelspec": {
   "display_name": "Python 3",
   "language": "python",
   "name": "python3"
  },
  "language_info": {
   "codemirror_mode": {
    "name": "ipython",
    "version": 3
   },
   "file_extension": ".py",
   "mimetype": "text/x-python",
   "name": "python",
   "nbconvert_exporter": "python",
   "pygments_lexer": "ipython3",
   "version": "3.6.9"
  }
 },
 "nbformat": 4,
 "nbformat_minor": 4
}
